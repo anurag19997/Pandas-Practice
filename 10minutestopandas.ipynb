{
 "cells": [
  {
   "cell_type": "code",
   "execution_count": 3,
   "metadata": {},
   "outputs": [
    {
     "data": {
      "text/html": [
       "<div>\n",
       "<style scoped>\n",
       "    .dataframe tbody tr th:only-of-type {\n",
       "        vertical-align: middle;\n",
       "    }\n",
       "\n",
       "    .dataframe tbody tr th {\n",
       "        vertical-align: top;\n",
       "    }\n",
       "\n",
       "    .dataframe thead th {\n",
       "        text-align: right;\n",
       "    }\n",
       "</style>\n",
       "<table border=\"1\" class=\"dataframe\">\n",
       "  <thead>\n",
       "    <tr style=\"text-align: right;\">\n",
       "      <th></th>\n",
       "      <th>A</th>\n",
       "      <th>B</th>\n",
       "      <th>C</th>\n",
       "      <th>D</th>\n",
       "      <th>F</th>\n",
       "    </tr>\n",
       "  </thead>\n",
       "  <tbody>\n",
       "    <tr>\n",
       "      <th>0</th>\n",
       "      <td>1</td>\n",
       "      <td>2018-09-24</td>\n",
       "      <td>3</td>\n",
       "      <td>test</td>\n",
       "      <td>foo</td>\n",
       "    </tr>\n",
       "    <tr>\n",
       "      <th>1</th>\n",
       "      <td>1</td>\n",
       "      <td>2018-09-24</td>\n",
       "      <td>3</td>\n",
       "      <td>train</td>\n",
       "      <td>foo</td>\n",
       "    </tr>\n",
       "    <tr>\n",
       "      <th>2</th>\n",
       "      <td>1</td>\n",
       "      <td>2018-09-24</td>\n",
       "      <td>3</td>\n",
       "      <td>test</td>\n",
       "      <td>foo</td>\n",
       "    </tr>\n",
       "    <tr>\n",
       "      <th>3</th>\n",
       "      <td>1</td>\n",
       "      <td>2018-09-24</td>\n",
       "      <td>3</td>\n",
       "      <td>train</td>\n",
       "      <td>foo</td>\n",
       "    </tr>\n",
       "  </tbody>\n",
       "</table>\n",
       "</div>"
      ],
      "text/plain": [
       "   A          B  C      D    F\n",
       "0  1 2018-09-24  3   test  foo\n",
       "1  1 2018-09-24  3  train  foo\n",
       "2  1 2018-09-24  3   test  foo\n",
       "3  1 2018-09-24  3  train  foo"
      ]
     },
     "execution_count": 3,
     "metadata": {},
     "output_type": "execute_result"
    }
   ],
   "source": [
    "import pandas as pd\n",
    "import numpy as np\n",
    "df = pd.DataFrame({ 'A':1,\n",
    "                    'B':pd.Timestamp('20180924', freq=6),\n",
    "                    'C':np.array([3] * 4),\n",
    "                    'D':pd.Categorical(['test', 'train', 'test', 'train']),\n",
    "                    'F':'foo'\n",
    "    \n",
    "})\n",
    "df"
   ]
  },
  {
   "cell_type": "code",
   "execution_count": 4,
   "metadata": {},
   "outputs": [
    {
     "data": {
      "text/plain": [
       "A             int64\n",
       "B    datetime64[ns]\n",
       "C             int32\n",
       "D          category\n",
       "F            object\n",
       "dtype: object"
      ]
     },
     "execution_count": 4,
     "metadata": {},
     "output_type": "execute_result"
    }
   ],
   "source": [
    "df.dtypes"
   ]
  },
  {
   "cell_type": "code",
   "execution_count": 5,
   "metadata": {},
   "outputs": [
    {
     "data": {
      "text/plain": [
       "RangeIndex(start=0, stop=4, step=1)"
      ]
     },
     "execution_count": 5,
     "metadata": {},
     "output_type": "execute_result"
    }
   ],
   "source": [
    "df.index"
   ]
  },
  {
   "cell_type": "code",
   "execution_count": 6,
   "metadata": {},
   "outputs": [
    {
     "data": {
      "text/plain": [
       "Index(['A', 'B', 'C', 'D', 'F'], dtype='object')"
      ]
     },
     "execution_count": 6,
     "metadata": {},
     "output_type": "execute_result"
    }
   ],
   "source": [
    "df.columns"
   ]
  },
  {
   "cell_type": "code",
   "execution_count": 7,
   "metadata": {},
   "outputs": [
    {
     "data": {
      "text/html": [
       "<div>\n",
       "<style scoped>\n",
       "    .dataframe tbody tr th:only-of-type {\n",
       "        vertical-align: middle;\n",
       "    }\n",
       "\n",
       "    .dataframe tbody tr th {\n",
       "        vertical-align: top;\n",
       "    }\n",
       "\n",
       "    .dataframe thead th {\n",
       "        text-align: right;\n",
       "    }\n",
       "</style>\n",
       "<table border=\"1\" class=\"dataframe\">\n",
       "  <thead>\n",
       "    <tr style=\"text-align: right;\">\n",
       "      <th></th>\n",
       "      <th>0</th>\n",
       "      <th>1</th>\n",
       "      <th>2</th>\n",
       "      <th>3</th>\n",
       "    </tr>\n",
       "  </thead>\n",
       "  <tbody>\n",
       "    <tr>\n",
       "      <th>A</th>\n",
       "      <td>1</td>\n",
       "      <td>1</td>\n",
       "      <td>1</td>\n",
       "      <td>1</td>\n",
       "    </tr>\n",
       "    <tr>\n",
       "      <th>B</th>\n",
       "      <td>2018-09-24 00:00:00</td>\n",
       "      <td>2018-09-24 00:00:00</td>\n",
       "      <td>2018-09-24 00:00:00</td>\n",
       "      <td>2018-09-24 00:00:00</td>\n",
       "    </tr>\n",
       "    <tr>\n",
       "      <th>C</th>\n",
       "      <td>3</td>\n",
       "      <td>3</td>\n",
       "      <td>3</td>\n",
       "      <td>3</td>\n",
       "    </tr>\n",
       "    <tr>\n",
       "      <th>D</th>\n",
       "      <td>test</td>\n",
       "      <td>train</td>\n",
       "      <td>test</td>\n",
       "      <td>train</td>\n",
       "    </tr>\n",
       "    <tr>\n",
       "      <th>F</th>\n",
       "      <td>foo</td>\n",
       "      <td>foo</td>\n",
       "      <td>foo</td>\n",
       "      <td>foo</td>\n",
       "    </tr>\n",
       "  </tbody>\n",
       "</table>\n",
       "</div>"
      ],
      "text/plain": [
       "                     0                    1                    2  \\\n",
       "A                    1                    1                    1   \n",
       "B  2018-09-24 00:00:00  2018-09-24 00:00:00  2018-09-24 00:00:00   \n",
       "C                    3                    3                    3   \n",
       "D                 test                train                 test   \n",
       "F                  foo                  foo                  foo   \n",
       "\n",
       "                     3  \n",
       "A                    1  \n",
       "B  2018-09-24 00:00:00  \n",
       "C                    3  \n",
       "D                train  \n",
       "F                  foo  "
      ]
     },
     "execution_count": 7,
     "metadata": {},
     "output_type": "execute_result"
    }
   ],
   "source": [
    "#Transposing the dataset\n",
    "df.T"
   ]
  },
  {
   "cell_type": "code",
   "execution_count": 8,
   "metadata": {},
   "outputs": [
    {
     "data": {
      "text/html": [
       "<div>\n",
       "<style scoped>\n",
       "    .dataframe tbody tr th:only-of-type {\n",
       "        vertical-align: middle;\n",
       "    }\n",
       "\n",
       "    .dataframe tbody tr th {\n",
       "        vertical-align: top;\n",
       "    }\n",
       "\n",
       "    .dataframe thead th {\n",
       "        text-align: right;\n",
       "    }\n",
       "</style>\n",
       "<table border=\"1\" class=\"dataframe\">\n",
       "  <thead>\n",
       "    <tr style=\"text-align: right;\">\n",
       "      <th></th>\n",
       "      <th>A</th>\n",
       "      <th>B</th>\n",
       "      <th>C</th>\n",
       "      <th>D</th>\n",
       "      <th>F</th>\n",
       "    </tr>\n",
       "  </thead>\n",
       "  <tbody>\n",
       "    <tr>\n",
       "      <th>0</th>\n",
       "      <td>1</td>\n",
       "      <td>2018-09-24</td>\n",
       "      <td>3</td>\n",
       "      <td>test</td>\n",
       "      <td>foo</td>\n",
       "    </tr>\n",
       "    <tr>\n",
       "      <th>2</th>\n",
       "      <td>1</td>\n",
       "      <td>2018-09-24</td>\n",
       "      <td>3</td>\n",
       "      <td>test</td>\n",
       "      <td>foo</td>\n",
       "    </tr>\n",
       "    <tr>\n",
       "      <th>1</th>\n",
       "      <td>1</td>\n",
       "      <td>2018-09-24</td>\n",
       "      <td>3</td>\n",
       "      <td>train</td>\n",
       "      <td>foo</td>\n",
       "    </tr>\n",
       "    <tr>\n",
       "      <th>3</th>\n",
       "      <td>1</td>\n",
       "      <td>2018-09-24</td>\n",
       "      <td>3</td>\n",
       "      <td>train</td>\n",
       "      <td>foo</td>\n",
       "    </tr>\n",
       "  </tbody>\n",
       "</table>\n",
       "</div>"
      ],
      "text/plain": [
       "   A          B  C      D    F\n",
       "0  1 2018-09-24  3   test  foo\n",
       "2  1 2018-09-24  3   test  foo\n",
       "1  1 2018-09-24  3  train  foo\n",
       "3  1 2018-09-24  3  train  foo"
      ]
     },
     "execution_count": 8,
     "metadata": {},
     "output_type": "execute_result"
    }
   ],
   "source": [
    "df.sort_values(by='D')"
   ]
  },
  {
   "cell_type": "code",
   "execution_count": 9,
   "metadata": {},
   "outputs": [
    {
     "data": {
      "text/html": [
       "<div>\n",
       "<style scoped>\n",
       "    .dataframe tbody tr th:only-of-type {\n",
       "        vertical-align: middle;\n",
       "    }\n",
       "\n",
       "    .dataframe tbody tr th {\n",
       "        vertical-align: top;\n",
       "    }\n",
       "\n",
       "    .dataframe thead th {\n",
       "        text-align: right;\n",
       "    }\n",
       "</style>\n",
       "<table border=\"1\" class=\"dataframe\">\n",
       "  <thead>\n",
       "    <tr style=\"text-align: right;\">\n",
       "      <th></th>\n",
       "      <th>Date</th>\n",
       "      <th>Open</th>\n",
       "      <th>High</th>\n",
       "      <th>Low</th>\n",
       "      <th>Last</th>\n",
       "      <th>Close</th>\n",
       "      <th>Total Trade Quantity</th>\n",
       "      <th>Turnover (Lacs)</th>\n",
       "    </tr>\n",
       "  </thead>\n",
       "  <tbody>\n",
       "    <tr>\n",
       "      <th>0</th>\n",
       "      <td>2018-08-17</td>\n",
       "      <td>9243.00</td>\n",
       "      <td>9286.50</td>\n",
       "      <td>9130.00</td>\n",
       "      <td>9149.95</td>\n",
       "      <td>9152.10</td>\n",
       "      <td>477538.0</td>\n",
       "      <td>44002.98</td>\n",
       "    </tr>\n",
       "    <tr>\n",
       "      <th>1</th>\n",
       "      <td>2018-08-16</td>\n",
       "      <td>9124.00</td>\n",
       "      <td>9235.95</td>\n",
       "      <td>9085.00</td>\n",
       "      <td>9202.20</td>\n",
       "      <td>9200.55</td>\n",
       "      <td>465479.0</td>\n",
       "      <td>42757.42</td>\n",
       "    </tr>\n",
       "    <tr>\n",
       "      <th>2</th>\n",
       "      <td>2018-08-14</td>\n",
       "      <td>9079.00</td>\n",
       "      <td>9158.80</td>\n",
       "      <td>9046.25</td>\n",
       "      <td>9135.00</td>\n",
       "      <td>9132.60</td>\n",
       "      <td>344056.0</td>\n",
       "      <td>31355.62</td>\n",
       "    </tr>\n",
       "    <tr>\n",
       "      <th>3</th>\n",
       "      <td>2018-08-13</td>\n",
       "      <td>9119.45</td>\n",
       "      <td>9185.00</td>\n",
       "      <td>9012.20</td>\n",
       "      <td>9107.00</td>\n",
       "      <td>9080.85</td>\n",
       "      <td>348201.0</td>\n",
       "      <td>31750.75</td>\n",
       "    </tr>\n",
       "    <tr>\n",
       "      <th>4</th>\n",
       "      <td>2018-08-10</td>\n",
       "      <td>9150.00</td>\n",
       "      <td>9210.00</td>\n",
       "      <td>9105.00</td>\n",
       "      <td>9119.90</td>\n",
       "      <td>9148.25</td>\n",
       "      <td>427827.0</td>\n",
       "      <td>39190.31</td>\n",
       "    </tr>\n",
       "  </tbody>\n",
       "</table>\n",
       "</div>"
      ],
      "text/plain": [
       "         Date     Open     High      Low     Last    Close  \\\n",
       "0  2018-08-17  9243.00  9286.50  9130.00  9149.95  9152.10   \n",
       "1  2018-08-16  9124.00  9235.95  9085.00  9202.20  9200.55   \n",
       "2  2018-08-14  9079.00  9158.80  9046.25  9135.00  9132.60   \n",
       "3  2018-08-13  9119.45  9185.00  9012.20  9107.00  9080.85   \n",
       "4  2018-08-10  9150.00  9210.00  9105.00  9119.90  9148.25   \n",
       "\n",
       "   Total Trade Quantity  Turnover (Lacs)  \n",
       "0              477538.0         44002.98  \n",
       "1              465479.0         42757.42  \n",
       "2              344056.0         31355.62  \n",
       "3              348201.0         31750.75  \n",
       "4              427827.0         39190.31  "
      ]
     },
     "execution_count": 9,
     "metadata": {},
     "output_type": "execute_result"
    }
   ],
   "source": [
    "df2 = pd.read_csv(r\"C:\\Users\\Kamal Dev Sharma\\testdirec\\sentdex practice\\NSE-MARUTI.csv\") #we use 'r' for raw string\n",
    "df2.head()"
   ]
  },
  {
   "cell_type": "code",
   "execution_count": 10,
   "metadata": {},
   "outputs": [
    {
     "data": {
      "text/plain": [
       "Date                     object\n",
       "Open                    float64\n",
       "High                    float64\n",
       "Low                     float64\n",
       "Last                    float64\n",
       "Close                   float64\n",
       "Total Trade Quantity    float64\n",
       "Turnover (Lacs)         float64\n",
       "dtype: object"
      ]
     },
     "execution_count": 10,
     "metadata": {},
     "output_type": "execute_result"
    }
   ],
   "source": [
    "df2.dtypes"
   ]
  },
  {
   "cell_type": "code",
   "execution_count": 11,
   "metadata": {},
   "outputs": [
    {
     "data": {
      "text/plain": [
       "Date                    datetime64[ns]\n",
       "Open                           float64\n",
       "High                           float64\n",
       "Low                            float64\n",
       "Last                           float64\n",
       "Close                          float64\n",
       "Total Trade Quantity           float64\n",
       "Turnover (Lacs)                float64\n",
       "dtype: object"
      ]
     },
     "execution_count": 11,
     "metadata": {},
     "output_type": "execute_result"
    }
   ],
   "source": [
    "df2.Date = pd.to_datetime(df2.Date, format='%Y/%m/%d')\n",
    "df2.dtypes"
   ]
  },
  {
   "cell_type": "code",
   "execution_count": 12,
   "metadata": {},
   "outputs": [
    {
     "data": {
      "text/html": [
       "<div>\n",
       "<style scoped>\n",
       "    .dataframe tbody tr th:only-of-type {\n",
       "        vertical-align: middle;\n",
       "    }\n",
       "\n",
       "    .dataframe tbody tr th {\n",
       "        vertical-align: top;\n",
       "    }\n",
       "\n",
       "    .dataframe thead th {\n",
       "        text-align: right;\n",
       "    }\n",
       "</style>\n",
       "<table border=\"1\" class=\"dataframe\">\n",
       "  <thead>\n",
       "    <tr style=\"text-align: right;\">\n",
       "      <th></th>\n",
       "      <th>index</th>\n",
       "      <th>Date</th>\n",
       "      <th>Open</th>\n",
       "      <th>High</th>\n",
       "      <th>Low</th>\n",
       "      <th>Last</th>\n",
       "      <th>Close</th>\n",
       "      <th>Total Trade Quantity</th>\n",
       "      <th>Turnover (Lacs)</th>\n",
       "    </tr>\n",
       "  </thead>\n",
       "  <tbody>\n",
       "    <tr>\n",
       "      <th>0</th>\n",
       "      <td>0</td>\n",
       "      <td>2018-08-17</td>\n",
       "      <td>9243.00</td>\n",
       "      <td>9286.50</td>\n",
       "      <td>9130.00</td>\n",
       "      <td>9149.95</td>\n",
       "      <td>9152.10</td>\n",
       "      <td>477538.0</td>\n",
       "      <td>44002.98</td>\n",
       "    </tr>\n",
       "    <tr>\n",
       "      <th>1</th>\n",
       "      <td>1</td>\n",
       "      <td>2018-08-16</td>\n",
       "      <td>9124.00</td>\n",
       "      <td>9235.95</td>\n",
       "      <td>9085.00</td>\n",
       "      <td>9202.20</td>\n",
       "      <td>9200.55</td>\n",
       "      <td>465479.0</td>\n",
       "      <td>42757.42</td>\n",
       "    </tr>\n",
       "    <tr>\n",
       "      <th>2</th>\n",
       "      <td>2</td>\n",
       "      <td>2018-08-14</td>\n",
       "      <td>9079.00</td>\n",
       "      <td>9158.80</td>\n",
       "      <td>9046.25</td>\n",
       "      <td>9135.00</td>\n",
       "      <td>9132.60</td>\n",
       "      <td>344056.0</td>\n",
       "      <td>31355.62</td>\n",
       "    </tr>\n",
       "    <tr>\n",
       "      <th>3</th>\n",
       "      <td>3</td>\n",
       "      <td>2018-08-13</td>\n",
       "      <td>9119.45</td>\n",
       "      <td>9185.00</td>\n",
       "      <td>9012.20</td>\n",
       "      <td>9107.00</td>\n",
       "      <td>9080.85</td>\n",
       "      <td>348201.0</td>\n",
       "      <td>31750.75</td>\n",
       "    </tr>\n",
       "    <tr>\n",
       "      <th>4</th>\n",
       "      <td>4</td>\n",
       "      <td>2018-08-10</td>\n",
       "      <td>9150.00</td>\n",
       "      <td>9210.00</td>\n",
       "      <td>9105.00</td>\n",
       "      <td>9119.90</td>\n",
       "      <td>9148.25</td>\n",
       "      <td>427827.0</td>\n",
       "      <td>39190.31</td>\n",
       "    </tr>\n",
       "  </tbody>\n",
       "</table>\n",
       "</div>"
      ],
      "text/plain": [
       "   index       Date     Open     High      Low     Last    Close  \\\n",
       "0      0 2018-08-17  9243.00  9286.50  9130.00  9149.95  9152.10   \n",
       "1      1 2018-08-16  9124.00  9235.95  9085.00  9202.20  9200.55   \n",
       "2      2 2018-08-14  9079.00  9158.80  9046.25  9135.00  9132.60   \n",
       "3      3 2018-08-13  9119.45  9185.00  9012.20  9107.00  9080.85   \n",
       "4      4 2018-08-10  9150.00  9210.00  9105.00  9119.90  9148.25   \n",
       "\n",
       "   Total Trade Quantity  Turnover (Lacs)  \n",
       "0              477538.0         44002.98  \n",
       "1              465479.0         42757.42  \n",
       "2              344056.0         31355.62  \n",
       "3              348201.0         31750.75  \n",
       "4              427827.0         39190.31  "
      ]
     },
     "execution_count": 12,
     "metadata": {},
     "output_type": "execute_result"
    }
   ],
   "source": [
    "df2.reset_index(level=0, inplace=True)\n",
    "df2.head()"
   ]
  },
  {
   "cell_type": "code",
   "execution_count": 13,
   "metadata": {},
   "outputs": [
    {
     "data": {
      "text/html": [
       "<div>\n",
       "<style scoped>\n",
       "    .dataframe tbody tr th:only-of-type {\n",
       "        vertical-align: middle;\n",
       "    }\n",
       "\n",
       "    .dataframe tbody tr th {\n",
       "        vertical-align: top;\n",
       "    }\n",
       "\n",
       "    .dataframe thead th {\n",
       "        text-align: right;\n",
       "    }\n",
       "</style>\n",
       "<table border=\"1\" class=\"dataframe\">\n",
       "  <thead>\n",
       "    <tr style=\"text-align: right;\">\n",
       "      <th></th>\n",
       "      <th>index</th>\n",
       "      <th>Date</th>\n",
       "      <th>Open</th>\n",
       "      <th>High</th>\n",
       "      <th>Low</th>\n",
       "      <th>Last</th>\n",
       "      <th>Close</th>\n",
       "      <th>Total Trade Quantity</th>\n",
       "      <th>Turnover (Lacs)</th>\n",
       "    </tr>\n",
       "  </thead>\n",
       "  <tbody>\n",
       "    <tr>\n",
       "      <th>0</th>\n",
       "      <td>0</td>\n",
       "      <td>2018-08-17</td>\n",
       "      <td>9243.0</td>\n",
       "      <td>9286.5</td>\n",
       "      <td>9130.0</td>\n",
       "      <td>9149.95</td>\n",
       "      <td>9152.1</td>\n",
       "      <td>477538.0</td>\n",
       "      <td>44002.98</td>\n",
       "    </tr>\n",
       "  </tbody>\n",
       "</table>\n",
       "</div>"
      ],
      "text/plain": [
       "   index       Date    Open    High     Low     Last   Close  \\\n",
       "0      0 2018-08-17  9243.0  9286.5  9130.0  9149.95  9152.1   \n",
       "\n",
       "   Total Trade Quantity  Turnover (Lacs)  \n",
       "0              477538.0         44002.98  "
      ]
     },
     "execution_count": 13,
     "metadata": {},
     "output_type": "execute_result"
    }
   ],
   "source": [
    "df2[df2['Close']==9152.10]"
   ]
  },
  {
   "cell_type": "code",
   "execution_count": 14,
   "metadata": {},
   "outputs": [
    {
     "data": {
      "text/html": [
       "<div>\n",
       "<style scoped>\n",
       "    .dataframe tbody tr th:only-of-type {\n",
       "        vertical-align: middle;\n",
       "    }\n",
       "\n",
       "    .dataframe tbody tr th {\n",
       "        vertical-align: top;\n",
       "    }\n",
       "\n",
       "    .dataframe thead th {\n",
       "        text-align: right;\n",
       "    }\n",
       "</style>\n",
       "<table border=\"1\" class=\"dataframe\">\n",
       "  <thead>\n",
       "    <tr style=\"text-align: right;\">\n",
       "      <th></th>\n",
       "      <th>index</th>\n",
       "      <th>Date</th>\n",
       "      <th>Open</th>\n",
       "      <th>High</th>\n",
       "      <th>Low</th>\n",
       "      <th>Last</th>\n",
       "      <th>Close</th>\n",
       "      <th>Total Trade Quantity</th>\n",
       "      <th>Turnover (Lacs)</th>\n",
       "    </tr>\n",
       "  </thead>\n",
       "  <tbody>\n",
       "    <tr>\n",
       "      <th>0</th>\n",
       "      <td>0</td>\n",
       "      <td>2018-08-17</td>\n",
       "      <td>9243.0</td>\n",
       "      <td>9286.5</td>\n",
       "      <td>9130.0</td>\n",
       "      <td>9149.95</td>\n",
       "      <td>9152.1</td>\n",
       "      <td>477538.0</td>\n",
       "      <td>44002.98</td>\n",
       "    </tr>\n",
       "  </tbody>\n",
       "</table>\n",
       "</div>"
      ],
      "text/plain": [
       "   index       Date    Open    High     Low     Last   Close  \\\n",
       "0      0 2018-08-17  9243.0  9286.5  9130.0  9149.95  9152.1   \n",
       "\n",
       "   Total Trade Quantity  Turnover (Lacs)  \n",
       "0              477538.0         44002.98  "
      ]
     },
     "execution_count": 14,
     "metadata": {},
     "output_type": "execute_result"
    }
   ],
   "source": [
    "df2[df2['Date']=='2018-08-17']"
   ]
  },
  {
   "cell_type": "code",
   "execution_count": 15,
   "metadata": {},
   "outputs": [
    {
     "data": {
      "text/html": [
       "<div>\n",
       "<style scoped>\n",
       "    .dataframe tbody tr th:only-of-type {\n",
       "        vertical-align: middle;\n",
       "    }\n",
       "\n",
       "    .dataframe tbody tr th {\n",
       "        vertical-align: top;\n",
       "    }\n",
       "\n",
       "    .dataframe thead th {\n",
       "        text-align: right;\n",
       "    }\n",
       "</style>\n",
       "<table border=\"1\" class=\"dataframe\">\n",
       "  <thead>\n",
       "    <tr style=\"text-align: right;\">\n",
       "      <th></th>\n",
       "      <th>index</th>\n",
       "      <th>Date</th>\n",
       "      <th>Open</th>\n",
       "      <th>High</th>\n",
       "      <th>Low</th>\n",
       "      <th>Last</th>\n",
       "      <th>Close</th>\n",
       "      <th>Total Trade Quantity</th>\n",
       "      <th>Turnover (Lacs)</th>\n",
       "    </tr>\n",
       "  </thead>\n",
       "  <tbody>\n",
       "    <tr>\n",
       "      <th>0</th>\n",
       "      <td>0</td>\n",
       "      <td>2018-08-17</td>\n",
       "      <td>9243.0</td>\n",
       "      <td>9286.5</td>\n",
       "      <td>9130.0</td>\n",
       "      <td>9149.95</td>\n",
       "      <td>9152.1</td>\n",
       "      <td>477538.0</td>\n",
       "      <td>44002.98</td>\n",
       "    </tr>\n",
       "  </tbody>\n",
       "</table>\n",
       "</div>"
      ],
      "text/plain": [
       "   index       Date    Open    High     Low     Last   Close  \\\n",
       "0      0 2018-08-17  9243.0  9286.5  9130.0  9149.95  9152.1   \n",
       "\n",
       "   Total Trade Quantity  Turnover (Lacs)  \n",
       "0              477538.0         44002.98  "
      ]
     },
     "execution_count": 15,
     "metadata": {},
     "output_type": "execute_result"
    }
   ],
   "source": [
    "df2[df2['Date']=='20180817']"
   ]
  },
  {
   "cell_type": "code",
   "execution_count": 32,
   "metadata": {},
   "outputs": [
    {
     "data": {
      "text/html": [
       "<div>\n",
       "<style scoped>\n",
       "    .dataframe tbody tr th:only-of-type {\n",
       "        vertical-align: middle;\n",
       "    }\n",
       "\n",
       "    .dataframe tbody tr th {\n",
       "        vertical-align: top;\n",
       "    }\n",
       "\n",
       "    .dataframe thead th {\n",
       "        text-align: right;\n",
       "    }\n",
       "</style>\n",
       "<table border=\"1\" class=\"dataframe\">\n",
       "  <thead>\n",
       "    <tr style=\"text-align: right;\">\n",
       "      <th></th>\n",
       "      <th>Date</th>\n",
       "      <th>Open</th>\n",
       "    </tr>\n",
       "  </thead>\n",
       "  <tbody>\n",
       "    <tr>\n",
       "      <th>0</th>\n",
       "      <td>2018-08-17</td>\n",
       "      <td>9243.00</td>\n",
       "    </tr>\n",
       "    <tr>\n",
       "      <th>1</th>\n",
       "      <td>2018-08-16</td>\n",
       "      <td>9124.00</td>\n",
       "    </tr>\n",
       "    <tr>\n",
       "      <th>2</th>\n",
       "      <td>2018-08-14</td>\n",
       "      <td>9079.00</td>\n",
       "    </tr>\n",
       "    <tr>\n",
       "      <th>3</th>\n",
       "      <td>2018-08-13</td>\n",
       "      <td>9119.45</td>\n",
       "    </tr>\n",
       "    <tr>\n",
       "      <th>4</th>\n",
       "      <td>2018-08-10</td>\n",
       "      <td>9150.00</td>\n",
       "    </tr>\n",
       "  </tbody>\n",
       "</table>\n",
       "</div>"
      ],
      "text/plain": [
       "        Date     Open\n",
       "0 2018-08-17  9243.00\n",
       "1 2018-08-16  9124.00\n",
       "2 2018-08-14  9079.00\n",
       "3 2018-08-13  9119.45\n",
       "4 2018-08-10  9150.00"
      ]
     },
     "execution_count": 32,
     "metadata": {},
     "output_type": "execute_result"
    }
   ],
   "source": [
    "df2.loc[:, ['Date', 'Open']].head()"
   ]
  },
  {
   "cell_type": "code",
   "execution_count": 65,
   "metadata": {},
   "outputs": [
    {
     "name": "stdout",
     "output_type": "stream",
     "text": [
      "189 days 00:00:00\n"
     ]
    }
   ],
   "source": [
    "t1 = pd.to_datetime('2003-01-01')\n",
    "t2 = pd.to_datetime('2003-07-09')\n",
    "print(t2-t1)"
   ]
  },
  {
   "cell_type": "code",
   "execution_count": 53,
   "metadata": {},
   "outputs": [
    {
     "data": {
      "text/plain": [
       "index                            int64\n",
       "Date                    datetime64[ns]\n",
       "Open                           float64\n",
       "High                           float64\n",
       "Low                            float64\n",
       "Last                           float64\n",
       "Close                          float64\n",
       "Total Trade Quantity           float64\n",
       "Turnover (Lacs)                float64\n",
       "dtype: object"
      ]
     },
     "execution_count": 53,
     "metadata": {},
     "output_type": "execute_result"
    }
   ],
   "source": [
    "df2.dtypes"
   ]
  },
  {
   "cell_type": "code",
   "execution_count": 66,
   "metadata": {},
   "outputs": [
    {
     "data": {
      "text/plain": [
       "0        44002.98\n",
       "1        42757.42\n",
       "2        31355.62\n",
       "3        31750.75\n",
       "4        39190.31\n",
       "5        59496.38\n",
       "6        59339.83\n",
       "7        35727.93\n",
       "8        22036.30\n",
       "9        43284.51\n",
       "10       80368.53\n",
       "11       65718.40\n",
       "12       40404.41\n",
       "13       50246.66\n",
       "14       62884.00\n",
       "15      119952.31\n",
       "16       37593.15\n",
       "17       73845.34\n",
       "18       58246.91\n",
       "19       25687.97\n",
       "20       18792.04\n",
       "21       40586.30\n",
       "22       43029.05\n",
       "23       20392.00\n",
       "24       48209.88\n",
       "25       31753.70\n",
       "26       31017.82\n",
       "27       46048.03\n",
       "28       31142.26\n",
       "29       47562.10\n",
       "          ...    \n",
       "3732     13487.00\n",
       "3733      6665.77\n",
       "3734      7372.46\n",
       "3735     13879.96\n",
       "3736     16922.52\n",
       "3737     17068.81\n",
       "3738     11399.27\n",
       "3739      4993.93\n",
       "3740      6262.76\n",
       "3741     14414.35\n",
       "3742     19124.34\n",
       "3743     19430.84\n",
       "3744     14798.84\n",
       "3745      6479.36\n",
       "3746      8456.02\n",
       "3747      9460.96\n",
       "3748      9640.85\n",
       "3749      4919.60\n",
       "3750      7511.53\n",
       "3751     23147.59\n",
       "3752      7639.12\n",
       "3753      5526.65\n",
       "3754      9011.90\n",
       "3755      6693.03\n",
       "3756      6675.70\n",
       "3757     10920.01\n",
       "3758     10643.13\n",
       "3759     20246.22\n",
       "3760     17448.20\n",
       "3761     58355.28\n",
       "Name: Turnover (Lacs), Length: 3762, dtype: float64"
      ]
     },
     "execution_count": 66,
     "metadata": {},
     "output_type": "execute_result"
    }
   ],
   "source": [
    "df2['Turnover (Lacs)'][(df2['Date'] > t1)]"
   ]
  }
 ],
 "metadata": {
  "kernelspec": {
   "display_name": "Python 3",
   "language": "python",
   "name": "python3"
  },
  "language_info": {
   "codemirror_mode": {
    "name": "ipython",
    "version": 3
   },
   "file_extension": ".py",
   "mimetype": "text/x-python",
   "name": "python",
   "nbconvert_exporter": "python",
   "pygments_lexer": "ipython3",
   "version": "3.6.4"
  }
 },
 "nbformat": 4,
 "nbformat_minor": 2
}
